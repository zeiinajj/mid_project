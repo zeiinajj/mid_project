{
 "cells": [
  {
   "cell_type": "code",
   "execution_count": 1,
   "metadata": {},
   "outputs": [
    {
     "name": "stdout",
     "output_type": "stream",
     "text": [
      "Writing streamlit.py\n"
     ]
    }
   ],
   "source": [
    "%%writefile streamlit.py\n",
    "\n",
    "import streamlit as st\n",
    "import pandas as pd \n",
    "import plotly.express as px \n",
    "from plotly.subplots import make_subplots\n",
    "\n",
    "#set page layout\n",
    "st.set_page_config(layout='wide')\n",
    "st.header('Visualization results')\n",
    "st.title(\"Billboard Hot 100 Analysis\")\n",
    "\n",
    "df=pd.read_csv(\"billboard_complete.csv\")\n",
    "\n",
    "sequence=['hotpink','rebeccapurple']\n",
    "\n",
    "genres=['country','r&b','pop','christmas','rap','trap','k-pop','hip hop',\n",
    "        'drill','edm','afrobeats','rock','punk rock','latin']\n",
    "\n",
    "years=list(df['Year'].unique())\n",
    "\n",
    "fig = make_subplots(rows=2 , cols=2)\n",
    "\n",
    "# start put charts in each column \n",
    "\n",
    "fig.add_trace(px.histogram(data_frame=df , x = 'total_bill').data[0] , row=1 , col=1)\n",
    "\n",
    "fig.add_trace(px.box(data_frame=df , x = 'total_bill').data[0] , row=1 , col=2)\n",
    "\n",
    "fig.add_trace(px.violin(data_frame=df , x = 'total_bill').data[0] , row=2 , col=1)\n",
    "\n",
    "fig.add_trace(px.strip(data_frame=df , x = 'total_bill').data[0] , row=2 , col=2)\n",
    "\n",
    "st.plotly_chart(fig)\n",
    "\n",
    "\n",
    "def page1():\n",
    "    \n",
    "    tab1 , tab2 , tab3 = st.tabs(['tempo' , 'genres' , 'year'])\n",
    "    \n",
    "    # start put charts in each tab \n",
    "    \n",
    "    with tab1:\n",
    "    \n",
    "        col1 , col2 , col3 = st.columns(3)\n",
    "    \n",
    "        \n",
    "        # col1 .....\n",
    "        \n",
    "        with col1 :\n",
    "        \n",
    "            st.plotly_chart(px.histogram(data_frame=df , x = 'tempo'))\n",
    "            st.plotly_chart(px.box(data_frame=df , x = 'tempo'))\n",
    "        \n",
    "        with col2 :\n",
    "        \n",
    "            st.plotly_chart(px.pie(data_frame=df , names = 'tempo'))\n",
    "            st.plotly_chart(px.pie(data_frame=df , names = 'tempo'))\n",
    "        \n",
    "        with col3 :\n",
    "        \n",
    "            st.plotly_chart(px.scatter(data_frame=df , x = 'tempo' , y = 'current_week'))\n",
    "            st.plotly_chart(px.violin(data_frame=df , x = 'tempo'))\n",
    "            \n",
    "    with tab2:\n",
    "    \n",
    "        \n",
    "        st.plotly_chart(px.scatter(data_frame=df , x = 'genre(s)' , y = 'tempo' , color = 'explicit'))\n",
    "    \n",
    "    \n",
    "    with tab3:\n",
    "    \n",
    "        st.plotly_chart(px.scatter(data_frame=df , x = 'genre(s)' , y = 'tempo' , color = 'explicit'))\n",
    "    \n",
    "\n",
    "def page2():\n",
    "\n",
    "    fig = make_subplots(rows=2 , cols=2)\n",
    "\n",
    "\n",
    "    fig.add_trace(px.pie(data_frame=mask , names = 'explicit', color_discrete_sequence=sequence)).data[0] , row=1 , col=1)\n",
    "\n",
    "    fig.add_trace(px.box(data_frame=df , x = 'total_bill').data[0] , row=1 , col=2)\n",
    "\n",
    "    fig.add_trace(px.violin(data_frame=df , x = 'total_bill').data[0] , row=2 , col=1)\n",
    "\n",
    "    fig.add_trace(px.strip(data_frame=df , x = 'total_bill').data[0] , row=2 , col=2)\n",
    "\n",
    "    st.plotly_chart(fig)\n",
    "    \n",
    "\n",
    "\n",
    "\n",
    "\n",
    "def page3():\n",
    "\n",
    "    st.plotly_chart(px.box(data_frame=df , x = 'tempo'))\n",
    "\n",
    "pages = {\n",
    "    'histogram' : page1,\n",
    "    'violin' : page2,\n",
    "    'box' : page3\n",
    "}\n",
    "\n",
    "pg = st.sidebar.radio('Navigate between pages' , pages.keys())\n",
    "\n",
    "pages[pg]()"
   ]
  },
  {
   "cell_type": "code",
   "execution_count": 3,
   "metadata": {},
   "outputs": [
    {
     "name": "stdout",
     "output_type": "stream",
     "text": [
      "^C\n"
     ]
    }
   ],
   "source": [
    "! streamlit run streamlit.py"
   ]
  },
  {
   "cell_type": "code",
   "execution_count": null,
   "metadata": {},
   "outputs": [],
   "source": []
  }
 ],
 "metadata": {
  "kernelspec": {
   "display_name": "base",
   "language": "python",
   "name": "python3"
  },
  "language_info": {
   "codemirror_mode": {
    "name": "ipython",
    "version": 3
   },
   "file_extension": ".py",
   "mimetype": "text/x-python",
   "name": "python",
   "nbconvert_exporter": "python",
   "pygments_lexer": "ipython3",
   "version": "3.12.4"
  }
 },
 "nbformat": 4,
 "nbformat_minor": 2
}
