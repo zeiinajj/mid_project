{
 "cells": [
  {
   "cell_type": "markdown",
   "metadata": {},
   "source": [
    "### **Importing necessary libraries**"
   ]
  },
  {
   "cell_type": "code",
   "execution_count": 1,
   "metadata": {},
   "outputs": [],
   "source": [
    "import pandas as pd\n",
    "import requests\n",
    "import time\n",
    "import traceback"
   ]
  },
  {
   "cell_type": "code",
   "execution_count": 2,
   "metadata": {},
   "outputs": [],
   "source": [
    "x = pd.read_csv(\"billboard 2020-2025.csv\")\n"
   ]
  },
  {
   "cell_type": "markdown",
   "metadata": {},
   "source": [
    "#### **finding the percentage of null values**"
   ]
  },
  {
   "cell_type": "code",
   "execution_count": null,
   "metadata": {},
   "outputs": [],
   "source": [
    "x.isna().mean()*100"
   ]
  },
  {
   "cell_type": "markdown",
   "metadata": {},
   "source": [
    "**filling the null values in genres column from another website** `musicbrainz`"
   ]
  },
  {
   "cell_type": "code",
   "execution_count": null,
   "metadata": {},
   "outputs": [],
   "source": [
    "headers = {\n",
    "    \"user-agent\": \"Zeina V1.0.0\",\n",
    "}\n",
    "\n",
    "URL_BASE = \"https://musicbrainz.org/ws/2/\"\n",
    "\n",
    "\n",
    "empty_genres = x[x[\"genre(s)\"].isna()]\n",
    "\n",
    "genres_cache = {}   #to save up on processing time\n",
    "\n",
    "count = 0"
   ]
  },
  {
   "cell_type": "code",
   "execution_count": null,
   "metadata": {},
   "outputs": [],
   "source": [
    "for idx, row in empty_genres.iterrows():\n",
    "    try:\n",
    "        if count % 25 == 0:\n",
    "            print(f\"At row {int(idx) + 1} out of {len(x)}.\")\n",
    "            x.to_csv(\"billboard_complete.csv\", index=False)\n",
    "\n",
    "        count += 1\n",
    "\n",
    "        # Search for artist\n",
    "        # https://musicbrainz.org/ws/2/artist/?query=Mariah%20Carey&fmt=json&limit=1&inc=genres\n",
    "        artist_name = row[\"performer\"]\n",
    "\n",
    "        if artist_name in genres_cache:\n",
    "            x.loc[idx, \"genre(s)\"] = genres_cache[artist_name]\n",
    "            continue\n",
    "\n",
    "        resp = requests.get(f\"{URL_BASE}artist/?query={artist_name}&fmt=json&limit=1\")\n",
    "        if not resp.ok:\n",
    "            print(f\"Error: {resp.status_code}\")\n",
    "            break\n",
    "\n",
    "        body = resp.json()\n",
    "        artist_mbid = body[\"artists\"][0][\"id\"]\n",
    "\n",
    "        time.sleep(1)\n",
    "\n",
    "        # https://musicbrainz.org/ws/2/artist/5b11f4ce-a62d-471e-81fc-a69a8278c7da?inc=genres&fmt=json\n",
    "\n",
    "        url = f\"{URL_BASE}artist/{artist_mbid}?inc=genres&fmt=json\"\n",
    "        print(url)\n",
    "        resp = requests.get(f\"{URL_BASE}artist/{artist_mbid}?inc=genres&fmt=json\")\n",
    "        if not resp.ok:\n",
    "            print(f\"Error: {resp.status_code}\")\n",
    "            break\n",
    "\n",
    "        body = resp.json()\n",
    "        artist_genres = body[\"genres\"]\n",
    "        flattened_genres = []\n",
    "        for genre in artist_genres:\n",
    "            flattened_genres.append(genre[\"name\"])\n",
    "\n",
    "        x.loc[idx, \"genre(s)\"] = \",\".join(flattened_genres)\n",
    "        genres_cache[artist_name] = \",\".join(flattened_genres)\n",
    "        print(f\"Set Genres for artist {artist_name} at row {idx}\")\n",
    "\n",
    "        time.sleep(1)\n",
    "    except Exception as e:\n",
    "        print(traceback.format_exc())\n",
    "        print(\"Error saving gracefully\")\n",
    "        x.to_csv(\"billboard_complete.csv\", index=False)\n",
    "\n",
    "x.to_csv(\"billboard_complete.csv\", index=False)\n"
   ]
  },
  {
   "cell_type": "markdown",
   "metadata": {},
   "source": [
    "### **operating on the completed file**"
   ]
  },
  {
   "cell_type": "code",
   "execution_count": 52,
   "metadata": {},
   "outputs": [],
   "source": [
    "x=pd.read_csv(\"billboard_complete.csv\")"
   ]
  },
  {
   "cell_type": "code",
   "execution_count": 53,
   "metadata": {},
   "outputs": [
    {
     "data": {
      "text/plain": [
       "chart_week      0.000000\n",
       "current_week    0.000000\n",
       "title           0.000000\n",
       "performer       0.000000\n",
       "last_week       0.000000\n",
       "peak_pos        0.000000\n",
       "wks_on_chart    0.000000\n",
       "genre(s)        3.469314\n",
       "explicit        0.000000\n",
       "duration-ms     0.000000\n",
       "tempo           0.003610\n",
       "loudness        0.003610\n",
       "energy          0.003610\n",
       "danceability    0.003610\n",
       "dtype: float64"
      ]
     },
     "execution_count": 53,
     "metadata": {},
     "output_type": "execute_result"
    }
   ],
   "source": [
    "x.isna().mean()*100"
   ]
  },
  {
   "cell_type": "code",
   "execution_count": 40,
   "metadata": {},
   "outputs": [
    {
     "name": "stdout",
     "output_type": "stream",
     "text": [
      "<class 'pandas.core.frame.DataFrame'>\n",
      "RangeIndex: 27700 entries, 0 to 27699\n",
      "Data columns (total 15 columns):\n",
      " #   Column        Non-Null Count  Dtype  \n",
      "---  ------        --------------  -----  \n",
      " 0   chart_week    27700 non-null  object \n",
      " 1   current_week  27700 non-null  int64  \n",
      " 2   title         27700 non-null  object \n",
      " 3   performer     27700 non-null  object \n",
      " 4   last_week     25884 non-null  object \n",
      " 5   peak_pos      27700 non-null  int64  \n",
      " 6   wks_on_chart  27700 non-null  int64  \n",
      " 7   genre(s)      26739 non-null  object \n",
      " 8   explicit      27700 non-null  bool   \n",
      " 9   duration-ms   27700 non-null  float64\n",
      " 10  tempo         27699 non-null  float64\n",
      " 11  loudness      27699 non-null  float64\n",
      " 12  energy        27699 non-null  float64\n",
      " 13  danceability  27699 non-null  float64\n",
      " 14  old_genre(s)  27700 non-null  bool   \n",
      "dtypes: bool(2), float64(5), int64(3), object(5)\n",
      "memory usage: 2.8+ MB\n"
     ]
    }
   ],
   "source": [
    "x.info()"
   ]
  },
  {
   "cell_type": "markdown",
   "metadata": {},
   "source": [
    "### **changing data types of columns to the appropriate data type**"
   ]
  },
  {
   "cell_type": "code",
   "execution_count": 54,
   "metadata": {},
   "outputs": [
    {
     "data": {
      "text/plain": [
       "array([  1,   2,   9,   6,   3,   4,  15,   8,   7,  10,  17,  23,  18,\n",
       "        11,  28,  30,  13,  12,  14,  16,  37,  36,  25,  40,  20,  21,\n",
       "        19,  50,   0,  29,  47,  31,  41,  32,  27,  26,  34,  53,  33,\n",
       "        35,   5,  39,  38,  42,  24,  44,  51,  58,  48,  46,  49,  43,\n",
       "        52,  61,  57,  55,  56,  59,  65,  60,  70,  68,  63,  66,  71,\n",
       "        72,  69,  76,  77,  75,  81,  78,  73,  74,  91,  89,  54,  96,\n",
       "        88,  97,  85,  93,  82,  95,  80,  94,  92,  98,  64,  62,  67,\n",
       "        86, 100,  84,  90,  87,  99,  83,  22,  45,  79], dtype=int64)"
      ]
     },
     "execution_count": 54,
     "metadata": {},
     "output_type": "execute_result"
    }
   ],
   "source": [
    "x[\"last_week\"].unique()"
   ]
  },
  {
   "cell_type": "code",
   "execution_count": 55,
   "metadata": {},
   "outputs": [
    {
     "data": {
      "text/plain": [
       "0        1\n",
       "1        2\n",
       "2        9\n",
       "3        6\n",
       "4        3\n",
       "        ..\n",
       "27695    0\n",
       "27696    0\n",
       "27697    0\n",
       "27698    0\n",
       "27699    0\n",
       "Name: last_week, Length: 27700, dtype: object"
      ]
     },
     "execution_count": 55,
     "metadata": {},
     "output_type": "execute_result"
    }
   ],
   "source": [
    "x['last_week'].replace('-' , '0').astype(object)"
   ]
  },
  {
   "cell_type": "code",
   "execution_count": 43,
   "metadata": {},
   "outputs": [
    {
     "name": "stdout",
     "output_type": "stream",
     "text": [
      "<class 'pandas.core.frame.DataFrame'>\n",
      "RangeIndex: 27700 entries, 0 to 27699\n",
      "Data columns (total 15 columns):\n",
      " #   Column        Non-Null Count  Dtype         \n",
      "---  ------        --------------  -----         \n",
      " 0   chart_week    27700 non-null  datetime64[ns]\n",
      " 1   current_week  27700 non-null  int64         \n",
      " 2   title         27700 non-null  object        \n",
      " 3   performer     27700 non-null  object        \n",
      " 4   last_week     25884 non-null  float64       \n",
      " 5   peak_pos      27700 non-null  int64         \n",
      " 6   wks_on_chart  27700 non-null  int64         \n",
      " 7   genre(s)      26739 non-null  object        \n",
      " 8   explicit      27700 non-null  bool          \n",
      " 9   duration-ms   27700 non-null  float64       \n",
      " 10  tempo         27699 non-null  float64       \n",
      " 11  loudness      27699 non-null  float64       \n",
      " 12  energy        27699 non-null  float64       \n",
      " 13  danceability  27699 non-null  float64       \n",
      " 14  old_genre(s)  27700 non-null  bool          \n",
      "dtypes: bool(2), datetime64[ns](1), float64(6), int64(3), object(3)\n",
      "memory usage: 2.8+ MB\n"
     ]
    }
   ],
   "source": [
    "x[\"chart_week\"] =pd.to_datetime(x[\"chart_week\"])\n",
    "x[\"last_week\"] =x['last_week'].replace('-' , '0').astype(object)\n",
    "x[\"last_week\"] = pd.to_numeric(x[\"last_week\"])\n",
    "\n",
    "x.info()"
   ]
  },
  {
   "cell_type": "code",
   "execution_count": 56,
   "metadata": {},
   "outputs": [],
   "source": [
    "x[\"last_week\"] =x['last_week'].fillna(0)\n",
    "x[\"last_week\"] = x['last_week'].apply(int)"
   ]
  },
  {
   "cell_type": "code",
   "execution_count": 57,
   "metadata": {},
   "outputs": [
    {
     "ename": "KeyError",
     "evalue": "'old_genre(s)'",
     "output_type": "error",
     "traceback": [
      "\u001b[1;31m---------------------------------------------------------------------------\u001b[0m",
      "\u001b[1;31mKeyError\u001b[0m                                  Traceback (most recent call last)",
      "File \u001b[1;32mc:\\Users\\Zeina\\anaconda3\\Lib\\site-packages\\pandas\\core\\indexes\\base.py:3805\u001b[0m, in \u001b[0;36mIndex.get_loc\u001b[1;34m(self, key)\u001b[0m\n\u001b[0;32m   3804\u001b[0m \u001b[38;5;28;01mtry\u001b[39;00m:\n\u001b[1;32m-> 3805\u001b[0m     \u001b[38;5;28;01mreturn\u001b[39;00m \u001b[38;5;28mself\u001b[39m\u001b[38;5;241m.\u001b[39m_engine\u001b[38;5;241m.\u001b[39mget_loc(casted_key)\n\u001b[0;32m   3806\u001b[0m \u001b[38;5;28;01mexcept\u001b[39;00m \u001b[38;5;167;01mKeyError\u001b[39;00m \u001b[38;5;28;01mas\u001b[39;00m err:\n",
      "File \u001b[1;32mindex.pyx:167\u001b[0m, in \u001b[0;36mpandas._libs.index.IndexEngine.get_loc\u001b[1;34m()\u001b[0m\n",
      "File \u001b[1;32mindex.pyx:196\u001b[0m, in \u001b[0;36mpandas._libs.index.IndexEngine.get_loc\u001b[1;34m()\u001b[0m\n",
      "File \u001b[1;32mpandas\\\\_libs\\\\hashtable_class_helper.pxi:7081\u001b[0m, in \u001b[0;36mpandas._libs.hashtable.PyObjectHashTable.get_item\u001b[1;34m()\u001b[0m\n",
      "File \u001b[1;32mpandas\\\\_libs\\\\hashtable_class_helper.pxi:7089\u001b[0m, in \u001b[0;36mpandas._libs.hashtable.PyObjectHashTable.get_item\u001b[1;34m()\u001b[0m\n",
      "\u001b[1;31mKeyError\u001b[0m: 'old_genre(s)'",
      "\nThe above exception was the direct cause of the following exception:\n",
      "\u001b[1;31mKeyError\u001b[0m                                  Traceback (most recent call last)",
      "Cell \u001b[1;32mIn[57], line 1\u001b[0m\n\u001b[1;32m----> 1\u001b[0m \u001b[38;5;28;01mdel\u001b[39;00m x[\u001b[38;5;124m'\u001b[39m\u001b[38;5;124mold_genre(s)\u001b[39m\u001b[38;5;124m'\u001b[39m]\n",
      "File \u001b[1;32mc:\\Users\\Zeina\\anaconda3\\Lib\\site-packages\\pandas\\core\\generic.py:4506\u001b[0m, in \u001b[0;36mNDFrame.__delitem__\u001b[1;34m(self, key)\u001b[0m\n\u001b[0;32m   4501\u001b[0m             deleted \u001b[38;5;241m=\u001b[39m \u001b[38;5;28;01mTrue\u001b[39;00m\n\u001b[0;32m   4502\u001b[0m \u001b[38;5;28;01mif\u001b[39;00m \u001b[38;5;129;01mnot\u001b[39;00m deleted:\n\u001b[0;32m   4503\u001b[0m     \u001b[38;5;66;03m# If the above loop ran and didn't delete anything because\u001b[39;00m\n\u001b[0;32m   4504\u001b[0m     \u001b[38;5;66;03m# there was no match, this call should raise the appropriate\u001b[39;00m\n\u001b[0;32m   4505\u001b[0m     \u001b[38;5;66;03m# exception:\u001b[39;00m\n\u001b[1;32m-> 4506\u001b[0m     loc \u001b[38;5;241m=\u001b[39m \u001b[38;5;28mself\u001b[39m\u001b[38;5;241m.\u001b[39maxes[\u001b[38;5;241m-\u001b[39m\u001b[38;5;241m1\u001b[39m]\u001b[38;5;241m.\u001b[39mget_loc(key)\n\u001b[0;32m   4507\u001b[0m     \u001b[38;5;28mself\u001b[39m\u001b[38;5;241m.\u001b[39m_mgr \u001b[38;5;241m=\u001b[39m \u001b[38;5;28mself\u001b[39m\u001b[38;5;241m.\u001b[39m_mgr\u001b[38;5;241m.\u001b[39midelete(loc)\n\u001b[0;32m   4509\u001b[0m \u001b[38;5;66;03m# delete from the caches\u001b[39;00m\n",
      "File \u001b[1;32mc:\\Users\\Zeina\\anaconda3\\Lib\\site-packages\\pandas\\core\\indexes\\base.py:3812\u001b[0m, in \u001b[0;36mIndex.get_loc\u001b[1;34m(self, key)\u001b[0m\n\u001b[0;32m   3807\u001b[0m     \u001b[38;5;28;01mif\u001b[39;00m \u001b[38;5;28misinstance\u001b[39m(casted_key, \u001b[38;5;28mslice\u001b[39m) \u001b[38;5;129;01mor\u001b[39;00m (\n\u001b[0;32m   3808\u001b[0m         \u001b[38;5;28misinstance\u001b[39m(casted_key, abc\u001b[38;5;241m.\u001b[39mIterable)\n\u001b[0;32m   3809\u001b[0m         \u001b[38;5;129;01mand\u001b[39;00m \u001b[38;5;28many\u001b[39m(\u001b[38;5;28misinstance\u001b[39m(x, \u001b[38;5;28mslice\u001b[39m) \u001b[38;5;28;01mfor\u001b[39;00m x \u001b[38;5;129;01min\u001b[39;00m casted_key)\n\u001b[0;32m   3810\u001b[0m     ):\n\u001b[0;32m   3811\u001b[0m         \u001b[38;5;28;01mraise\u001b[39;00m InvalidIndexError(key)\n\u001b[1;32m-> 3812\u001b[0m     \u001b[38;5;28;01mraise\u001b[39;00m \u001b[38;5;167;01mKeyError\u001b[39;00m(key) \u001b[38;5;28;01mfrom\u001b[39;00m \u001b[38;5;21;01merr\u001b[39;00m\n\u001b[0;32m   3813\u001b[0m \u001b[38;5;28;01mexcept\u001b[39;00m \u001b[38;5;167;01mTypeError\u001b[39;00m:\n\u001b[0;32m   3814\u001b[0m     \u001b[38;5;66;03m# If we have a listlike key, _check_indexing_error will raise\u001b[39;00m\n\u001b[0;32m   3815\u001b[0m     \u001b[38;5;66;03m#  InvalidIndexError. Otherwise we fall through and re-raise\u001b[39;00m\n\u001b[0;32m   3816\u001b[0m     \u001b[38;5;66;03m#  the TypeError.\u001b[39;00m\n\u001b[0;32m   3817\u001b[0m     \u001b[38;5;28mself\u001b[39m\u001b[38;5;241m.\u001b[39m_check_indexing_error(key)\n",
      "\u001b[1;31mKeyError\u001b[0m: 'old_genre(s)'"
     ]
    }
   ],
   "source": [
    "del x['old_genre(s)']"
   ]
  },
  {
   "cell_type": "code",
   "execution_count": 58,
   "metadata": {},
   "outputs": [
    {
     "name": "stdout",
     "output_type": "stream",
     "text": [
      "<class 'pandas.core.frame.DataFrame'>\n",
      "RangeIndex: 27700 entries, 0 to 27699\n",
      "Data columns (total 14 columns):\n",
      " #   Column        Non-Null Count  Dtype  \n",
      "---  ------        --------------  -----  \n",
      " 0   chart_week    27700 non-null  object \n",
      " 1   current_week  27700 non-null  int64  \n",
      " 2   title         27700 non-null  object \n",
      " 3   performer     27700 non-null  object \n",
      " 4   last_week     27700 non-null  int64  \n",
      " 5   peak_pos      27700 non-null  int64  \n",
      " 6   wks_on_chart  27700 non-null  int64  \n",
      " 7   genre(s)      26739 non-null  object \n",
      " 8   explicit      27700 non-null  bool   \n",
      " 9   duration-ms   27700 non-null  float64\n",
      " 10  tempo         27699 non-null  float64\n",
      " 11  loudness      27699 non-null  float64\n",
      " 12  energy        27699 non-null  float64\n",
      " 13  danceability  27699 non-null  float64\n",
      "dtypes: bool(1), float64(5), int64(4), object(4)\n",
      "memory usage: 2.8+ MB\n"
     ]
    }
   ],
   "source": [
    "x.info()"
   ]
  },
  {
   "cell_type": "markdown",
   "metadata": {},
   "source": [
    "### **saving the changes**"
   ]
  },
  {
   "cell_type": "code",
   "execution_count": 59,
   "metadata": {},
   "outputs": [],
   "source": [
    "x.to_csv(\"billboard_complete.csv\", index=False)"
   ]
  },
  {
   "cell_type": "code",
   "execution_count": 48,
   "metadata": {},
   "outputs": [
    {
     "name": "stdout",
     "output_type": "stream",
     "text": [
      "<class 'pandas.core.frame.DataFrame'>\n",
      "RangeIndex: 27700 entries, 0 to 27699\n",
      "Data columns (total 15 columns):\n",
      " #   Column        Non-Null Count  Dtype         \n",
      "---  ------        --------------  -----         \n",
      " 0   chart_week    27700 non-null  datetime64[ns]\n",
      " 1   current_week  27700 non-null  int64         \n",
      " 2   title         27700 non-null  object        \n",
      " 3   performer     27700 non-null  object        \n",
      " 4   last_week     27700 non-null  int64         \n",
      " 5   peak_pos      27700 non-null  int64         \n",
      " 6   wks_on_chart  27700 non-null  int64         \n",
      " 7   genre(s)      26739 non-null  object        \n",
      " 8   explicit      27700 non-null  bool          \n",
      " 9   duration-ms   27700 non-null  float64       \n",
      " 10  tempo         27699 non-null  float64       \n",
      " 11  loudness      27699 non-null  float64       \n",
      " 12  energy        27699 non-null  float64       \n",
      " 13  danceability  27699 non-null  float64       \n",
      " 14  old_genre(s)  27700 non-null  bool          \n",
      "dtypes: bool(2), datetime64[ns](1), float64(5), int64(4), object(3)\n",
      "memory usage: 2.8+ MB\n"
     ]
    }
   ],
   "source": [
    "x.info()"
   ]
  },
  {
   "cell_type": "code",
   "execution_count": 60,
   "metadata": {},
   "outputs": [
    {
     "data": {
      "text/html": [
       "<div>\n",
       "<style scoped>\n",
       "    .dataframe tbody tr th:only-of-type {\n",
       "        vertical-align: middle;\n",
       "    }\n",
       "\n",
       "    .dataframe tbody tr th {\n",
       "        vertical-align: top;\n",
       "    }\n",
       "\n",
       "    .dataframe thead th {\n",
       "        text-align: right;\n",
       "    }\n",
       "</style>\n",
       "<table border=\"1\" class=\"dataframe\">\n",
       "  <thead>\n",
       "    <tr style=\"text-align: right;\">\n",
       "      <th></th>\n",
       "      <th>chart_week</th>\n",
       "      <th>current_week</th>\n",
       "      <th>title</th>\n",
       "      <th>performer</th>\n",
       "      <th>last_week</th>\n",
       "      <th>peak_pos</th>\n",
       "      <th>wks_on_chart</th>\n",
       "      <th>genre(s)</th>\n",
       "      <th>explicit</th>\n",
       "      <th>duration-ms</th>\n",
       "      <th>tempo</th>\n",
       "      <th>loudness</th>\n",
       "      <th>energy</th>\n",
       "      <th>danceability</th>\n",
       "    </tr>\n",
       "  </thead>\n",
       "  <tbody>\n",
       "    <tr>\n",
       "      <th>0</th>\n",
       "      <td>2020-01-04</td>\n",
       "      <td>1</td>\n",
       "      <td>All I Want For Christmas Is You</td>\n",
       "      <td>Mariah Carey</td>\n",
       "      <td>1</td>\n",
       "      <td>1</td>\n",
       "      <td>37</td>\n",
       "      <td>christmas</td>\n",
       "      <td>False</td>\n",
       "      <td>241106.0</td>\n",
       "      <td>150.273</td>\n",
       "      <td>-7.463</td>\n",
       "      <td>0.627</td>\n",
       "      <td>0.336</td>\n",
       "    </tr>\n",
       "    <tr>\n",
       "      <th>1</th>\n",
       "      <td>2020-01-04</td>\n",
       "      <td>2</td>\n",
       "      <td>Rockin' Around The Christmas Tree</td>\n",
       "      <td>Brenda Lee</td>\n",
       "      <td>2</td>\n",
       "      <td>2</td>\n",
       "      <td>32</td>\n",
       "      <td>christmas</td>\n",
       "      <td>False</td>\n",
       "      <td>126266.0</td>\n",
       "      <td>67.086</td>\n",
       "      <td>-8.744</td>\n",
       "      <td>0.470</td>\n",
       "      <td>0.598</td>\n",
       "    </tr>\n",
       "    <tr>\n",
       "      <th>2</th>\n",
       "      <td>2020-01-04</td>\n",
       "      <td>3</td>\n",
       "      <td>Jingle Bell Rock</td>\n",
       "      <td>Bobby Helms</td>\n",
       "      <td>9</td>\n",
       "      <td>3</td>\n",
       "      <td>30</td>\n",
       "      <td>christmas</td>\n",
       "      <td>False</td>\n",
       "      <td>130973.0</td>\n",
       "      <td>119.705</td>\n",
       "      <td>-8.463</td>\n",
       "      <td>0.424</td>\n",
       "      <td>0.754</td>\n",
       "    </tr>\n",
       "    <tr>\n",
       "      <th>3</th>\n",
       "      <td>2020-01-04</td>\n",
       "      <td>4</td>\n",
       "      <td>A Holly Jolly Christmas</td>\n",
       "      <td>Burl Ives</td>\n",
       "      <td>6</td>\n",
       "      <td>4</td>\n",
       "      <td>15</td>\n",
       "      <td>christmas</td>\n",
       "      <td>False</td>\n",
       "      <td>135533.0</td>\n",
       "      <td>140.453</td>\n",
       "      <td>-13.056</td>\n",
       "      <td>0.375</td>\n",
       "      <td>0.682</td>\n",
       "    </tr>\n",
       "    <tr>\n",
       "      <th>4</th>\n",
       "      <td>2020-01-04</td>\n",
       "      <td>5</td>\n",
       "      <td>Circles</td>\n",
       "      <td>Post Malone</td>\n",
       "      <td>3</td>\n",
       "      <td>1</td>\n",
       "      <td>17</td>\n",
       "      <td>contemporary r&amp;b,country,hip hop,pop rap,trap</td>\n",
       "      <td>False</td>\n",
       "      <td>215280.0</td>\n",
       "      <td>120.042</td>\n",
       "      <td>-3.497</td>\n",
       "      <td>0.763</td>\n",
       "      <td>0.695</td>\n",
       "    </tr>\n",
       "    <tr>\n",
       "      <th>...</th>\n",
       "      <td>...</td>\n",
       "      <td>...</td>\n",
       "      <td>...</td>\n",
       "      <td>...</td>\n",
       "      <td>...</td>\n",
       "      <td>...</td>\n",
       "      <td>...</td>\n",
       "      <td>...</td>\n",
       "      <td>...</td>\n",
       "      <td>...</td>\n",
       "      <td>...</td>\n",
       "      <td>...</td>\n",
       "      <td>...</td>\n",
       "      <td>...</td>\n",
       "    </tr>\n",
       "    <tr>\n",
       "      <th>27695</th>\n",
       "      <td>2025-01-11</td>\n",
       "      <td>96</td>\n",
       "      <td>Holy Smokes</td>\n",
       "      <td>Bailey Zimmerman</td>\n",
       "      <td>0</td>\n",
       "      <td>54</td>\n",
       "      <td>7</td>\n",
       "      <td>country</td>\n",
       "      <td>False</td>\n",
       "      <td>195157.0</td>\n",
       "      <td>95.117</td>\n",
       "      <td>-7.908</td>\n",
       "      <td>0.569</td>\n",
       "      <td>0.462</td>\n",
       "    </tr>\n",
       "    <tr>\n",
       "      <th>27696</th>\n",
       "      <td>2025-01-11</td>\n",
       "      <td>97</td>\n",
       "      <td>High Road</td>\n",
       "      <td>Zach Bryan</td>\n",
       "      <td>0</td>\n",
       "      <td>29</td>\n",
       "      <td>5</td>\n",
       "      <td>country,red dirt</td>\n",
       "      <td>True</td>\n",
       "      <td>199893.0</td>\n",
       "      <td>113.404</td>\n",
       "      <td>-11.028</td>\n",
       "      <td>0.229</td>\n",
       "      <td>0.470</td>\n",
       "    </tr>\n",
       "    <tr>\n",
       "      <th>27697</th>\n",
       "      <td>2025-01-11</td>\n",
       "      <td>98</td>\n",
       "      <td>On One Tonight</td>\n",
       "      <td>Gunna</td>\n",
       "      <td>0</td>\n",
       "      <td>54</td>\n",
       "      <td>7</td>\n",
       "      <td>melodic rap</td>\n",
       "      <td>True</td>\n",
       "      <td>90760.0</td>\n",
       "      <td>130.035</td>\n",
       "      <td>-4.318</td>\n",
       "      <td>0.727</td>\n",
       "      <td>0.887</td>\n",
       "    </tr>\n",
       "    <tr>\n",
       "      <th>27698</th>\n",
       "      <td>2025-01-11</td>\n",
       "      <td>99</td>\n",
       "      <td>St. Chroma</td>\n",
       "      <td>Tyler, The Creator Featuring Daniel Caesar</td>\n",
       "      <td>0</td>\n",
       "      <td>7</td>\n",
       "      <td>9</td>\n",
       "      <td>egyptian hip hop,arabic rap,egyptian pop</td>\n",
       "      <td>False</td>\n",
       "      <td>195297.0</td>\n",
       "      <td>101.096</td>\n",
       "      <td>-7.774</td>\n",
       "      <td>0.724</td>\n",
       "      <td>0.671</td>\n",
       "    </tr>\n",
       "    <tr>\n",
       "      <th>27699</th>\n",
       "      <td>2025-01-11</td>\n",
       "      <td>100</td>\n",
       "      <td>Cowboy Songs</td>\n",
       "      <td>George Birge</td>\n",
       "      <td>0</td>\n",
       "      <td>100</td>\n",
       "      <td>1</td>\n",
       "      <td>country</td>\n",
       "      <td>False</td>\n",
       "      <td>187186.0</td>\n",
       "      <td>81.900</td>\n",
       "      <td>-4.909</td>\n",
       "      <td>0.835</td>\n",
       "      <td>0.441</td>\n",
       "    </tr>\n",
       "  </tbody>\n",
       "</table>\n",
       "<p>27700 rows × 14 columns</p>\n",
       "</div>"
      ],
      "text/plain": [
       "      chart_week  current_week                              title  \\\n",
       "0     2020-01-04             1    All I Want For Christmas Is You   \n",
       "1     2020-01-04             2  Rockin' Around The Christmas Tree   \n",
       "2     2020-01-04             3                   Jingle Bell Rock   \n",
       "3     2020-01-04             4            A Holly Jolly Christmas   \n",
       "4     2020-01-04             5                            Circles   \n",
       "...          ...           ...                                ...   \n",
       "27695 2025-01-11            96                        Holy Smokes   \n",
       "27696 2025-01-11            97                          High Road   \n",
       "27697 2025-01-11            98                     On One Tonight   \n",
       "27698 2025-01-11            99                         St. Chroma   \n",
       "27699 2025-01-11           100                       Cowboy Songs   \n",
       "\n",
       "                                        performer  last_week  peak_pos  \\\n",
       "0                                    Mariah Carey          1         1   \n",
       "1                                      Brenda Lee          2         2   \n",
       "2                                     Bobby Helms          9         3   \n",
       "3                                       Burl Ives          6         4   \n",
       "4                                     Post Malone          3         1   \n",
       "...                                           ...        ...       ...   \n",
       "27695                            Bailey Zimmerman          0        54   \n",
       "27696                                  Zach Bryan          0        29   \n",
       "27697                                       Gunna          0        54   \n",
       "27698  Tyler, The Creator Featuring Daniel Caesar          0         7   \n",
       "27699                                George Birge          0       100   \n",
       "\n",
       "       wks_on_chart                                       genre(s)  explicit  \\\n",
       "0                37                                      christmas     False   \n",
       "1                32                                      christmas     False   \n",
       "2                30                                      christmas     False   \n",
       "3                15                                      christmas     False   \n",
       "4                17  contemporary r&b,country,hip hop,pop rap,trap     False   \n",
       "...             ...                                            ...       ...   \n",
       "27695             7                                        country     False   \n",
       "27696             5                               country,red dirt      True   \n",
       "27697             7                                    melodic rap      True   \n",
       "27698             9       egyptian hip hop,arabic rap,egyptian pop     False   \n",
       "27699             1                                        country     False   \n",
       "\n",
       "       duration-ms    tempo  loudness  energy  danceability  \n",
       "0         241106.0  150.273    -7.463   0.627         0.336  \n",
       "1         126266.0   67.086    -8.744   0.470         0.598  \n",
       "2         130973.0  119.705    -8.463   0.424         0.754  \n",
       "3         135533.0  140.453   -13.056   0.375         0.682  \n",
       "4         215280.0  120.042    -3.497   0.763         0.695  \n",
       "...            ...      ...       ...     ...           ...  \n",
       "27695     195157.0   95.117    -7.908   0.569         0.462  \n",
       "27696     199893.0  113.404   -11.028   0.229         0.470  \n",
       "27697      90760.0  130.035    -4.318   0.727         0.887  \n",
       "27698     195297.0  101.096    -7.774   0.724         0.671  \n",
       "27699     187186.0   81.900    -4.909   0.835         0.441  \n",
       "\n",
       "[27700 rows x 14 columns]"
      ]
     },
     "execution_count": 60,
     "metadata": {},
     "output_type": "execute_result"
    }
   ],
   "source": [
    "df"
   ]
  },
  {
   "cell_type": "code",
   "execution_count": null,
   "metadata": {},
   "outputs": [],
   "source": []
  }
 ],
 "metadata": {
  "kernelspec": {
   "display_name": "base",
   "language": "python",
   "name": "python3"
  },
  "language_info": {
   "codemirror_mode": {
    "name": "ipython",
    "version": 3
   },
   "file_extension": ".py",
   "mimetype": "text/x-python",
   "name": "python",
   "nbconvert_exporter": "python",
   "pygments_lexer": "ipython3",
   "version": "3.12.4"
  }
 },
 "nbformat": 4,
 "nbformat_minor": 2
}
